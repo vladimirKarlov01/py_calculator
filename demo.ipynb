{
 "cells": [
  {
   "cell_type": "markdown",
   "metadata": {},
   "source": [
    "# Python, Linux. Hometask - 2\n",
    "#### Writing calculator in Python with HTTP-API.\n",
    "\n",
    "#### Выполнил Карлов В.А."
   ]
  },
  {
   "cell_type": "markdown",
   "metadata": {},
   "source": [
    "### Tests"
   ]
  },
  {
   "cell_type": "code",
   "execution_count": 1,
   "metadata": {},
   "outputs": [],
   "source": [
    "from src.calculator import Calculator\n",
    "from math import isclose\n",
    "\n",
    "calc = Calculator()\n",
    "\n",
    "assert calc.evaluate(\"\") == 0\n",
    "assert calc.evaluate(\"0\") == 0\n",
    "assert calc.evaluate(\"1\") == 1\n",
    "assert calc.evaluate(\"-1\") == -1\n",
    "assert calc.evaluate(\"-0\") == 0\n",
    "assert calc.evaluate(\"-1 - 100\") == -101\n",
    "assert calc.evaluate(\"-1 + 1 + (-1) * 100\") == -100\n",
    "\n",
    "assert isclose(calc.evaluate(\"10.0 + (-10.0) - 100.0\"), -100)\n",
    "assert isclose(calc.evaluate(\"(1.5 + 3.5) * 10.0 - 50 * 2 / 4.0\"), 25)"
   ]
  },
  {
   "cell_type": "markdown",
   "metadata": {},
   "source": [
    "### API Demo"
   ]
  },
  {
   "cell_type": "code",
   "execution_count": 7,
   "metadata": {},
   "outputs": [
    {
     "name": "stdout",
     "output_type": "stream",
     "text": [
      "Result:\n",
      "16.0\n"
     ]
    }
   ],
   "source": [
    "import requests\n",
    "import json\n",
    "\n",
    "url = \"http://127.0.0.1:5000/calculate\"\n",
    "data = {\"expression\": \"10 + (5 / 5) * (5 + 1)\"}\n",
    "\n",
    "try:\n",
    "    response = requests.post(url, json=data)\n",
    "    response.raise_for_status()\n",
    "    print(\"Result:\", response.json()['result'], sep='\\n')\n",
    "except requests.exceptions.HTTPError as e:\n",
    "    print(\"HTTP error:\", response.json()['error'])\n",
    "except requests.exceptions.ConnectionError as e:\n",
    "    print(\"Connection error:\", e)\n",
    "except requests.exceptions.Timeout as e:\n",
    "    print(\"Timeout:\", e)\n",
    "except requests.exceptions.RequestException as e:\n",
    "    print(\"Request error:\", e)\n",
    "except json.decoder.JSONDecodeError as e:\n",
    "    print(\"JSON decoding error:\", e)\n",
    "    print(\"Server response:\", response.text)"
   ]
  }
 ],
 "metadata": {
  "kernelspec": {
   "display_name": "base_venv",
   "language": "python",
   "name": "base_venv"
  },
  "language_info": {
   "codemirror_mode": {
    "name": "ipython",
    "version": 3
   },
   "file_extension": ".py",
   "mimetype": "text/x-python",
   "name": "python",
   "nbconvert_exporter": "python",
   "pygments_lexer": "ipython3",
   "version": "3.10.13"
  }
 },
 "nbformat": 4,
 "nbformat_minor": 2
}
